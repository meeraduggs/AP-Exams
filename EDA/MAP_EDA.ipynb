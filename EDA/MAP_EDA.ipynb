{
 "cells": [
  {
   "cell_type": "code",
   "execution_count": 3,
   "id": "749a14f6",
   "metadata": {},
   "outputs": [],
   "source": [
    "#first convert to a geodataframe \n",
    "import geopandas as gpd \n",
    "import matplotlib.pyplot as plt\n",
    "import pandas as pd \n",
    "import numpy as np \n",
    "import os "
   ]
  },
  {
   "cell_type": "code",
   "execution_count": null,
   "id": "0023c086",
   "metadata": {},
   "outputs": [],
   "source": [
    "os.chdir('/Users/meera/Documents/AP-Exams/Data')\n",
    "os.getcwd()"
   ]
  },
  {
   "cell_type": "code",
   "execution_count": null,
   "id": "66f9968c",
   "metadata": {},
   "outputs": [],
   "source": [
    "ap_dir_2011tot = gpd.read_file('ap_dir_2011tot.geojson')"
   ]
  }
 ],
 "metadata": {
  "kernelspec": {
   "display_name": "Python 3",
   "language": "python",
   "name": "python3"
  },
  "language_info": {
   "codemirror_mode": {
    "name": "ipython",
    "version": 3
   },
   "file_extension": ".py",
   "mimetype": "text/x-python",
   "name": "python",
   "nbconvert_exporter": "python",
   "pygments_lexer": "ipython3",
   "version": "3.8.8"
  }
 },
 "nbformat": 4,
 "nbformat_minor": 5
}
