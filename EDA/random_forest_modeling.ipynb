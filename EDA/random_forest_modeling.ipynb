{
 "cells": [
  {
   "cell_type": "code",
   "execution_count": 2,
   "id": "17659d1e",
   "metadata": {},
   "outputs": [],
   "source": [
    "import os \n",
    "import numpy as np\n",
    "import pandas as pd \n",
    "pd.set_option('display.max_columns', None)\n",
    "pd.set_option('display.float_format', lambda x: '%.4f' % x) \n",
    "\n",
    "\n"
   ]
  },
  {
   "cell_type": "code",
   "execution_count": 3,
   "id": "88a6ad6f",
   "metadata": {
    "scrolled": true
   },
   "outputs": [
    {
     "data": {
      "text/html": [
       "<div>\n",
       "<style scoped>\n",
       "    .dataframe tbody tr th:only-of-type {\n",
       "        vertical-align: middle;\n",
       "    }\n",
       "\n",
       "    .dataframe tbody tr th {\n",
       "        vertical-align: top;\n",
       "    }\n",
       "\n",
       "    .dataframe thead th {\n",
       "        text-align: right;\n",
       "    }\n",
       "</style>\n",
       "<table border=\"1\" class=\"dataframe\">\n",
       "  <thead>\n",
       "    <tr style=\"text-align: right;\">\n",
       "      <th></th>\n",
       "      <th>year</th>\n",
       "      <th>ncessch</th>\n",
       "      <th>enrollment</th>\n",
       "      <th>AP_oneormore_relative</th>\n",
       "      <th>teachers_per_student</th>\n",
       "      <th>security_gaurds_per_students</th>\n",
       "      <th>avg_teacher_salary</th>\n",
       "      <th>%Asian</th>\n",
       "      <th>%Black</th>\n",
       "      <th>%Hispanic</th>\n",
       "      <th>%Indigenous \\nAmerican</th>\n",
       "      <th>%Multiracial</th>\n",
       "      <th>%Pacific \\nIslander</th>\n",
       "      <th>%White</th>\n",
       "      <th>%Female</th>\n",
       "      <th>%Male</th>\n",
       "      <th>enrl_AP</th>\n",
       "      <th>enrl_AP_science</th>\n",
       "      <th>enrl_AP_math</th>\n",
       "      <th>enrl_AP_other</th>\n",
       "      <th>enrl_gifted_talented</th>\n",
       "      <th>students_SAT_ACT</th>\n",
       "      <th>students_chronically_absent</th>\n",
       "      <th>students_report_harass_dis</th>\n",
       "      <th>students_susp_in_sch</th>\n",
       "      <th>students_susp_out_sch_single</th>\n",
       "      <th>students_susp_out_sch_multiple</th>\n",
       "      <th>students_arrested</th>\n",
       "    </tr>\n",
       "  </thead>\n",
       "  <tbody>\n",
       "    <tr>\n",
       "      <th>0</th>\n",
       "      <td>2011</td>\n",
       "      <td>60000103278.0000</td>\n",
       "      <td>83.0000</td>\n",
       "      <td>-0.2329</td>\n",
       "      <td>0.0002</td>\n",
       "      <td>0.0000</td>\n",
       "      <td>17499.4056</td>\n",
       "      <td>0.0039</td>\n",
       "      <td>-0.0045</td>\n",
       "      <td>-0.0388</td>\n",
       "      <td>-0.0029</td>\n",
       "      <td>-0.0694</td>\n",
       "      <td>0.0004</td>\n",
       "      <td>0.1114</td>\n",
       "      <td>-0.0093</td>\n",
       "      <td>0.0093</td>\n",
       "      <td>0.0855</td>\n",
       "      <td>0.0317</td>\n",
       "      <td>-0.0140</td>\n",
       "      <td>-0.0548</td>\n",
       "      <td>0.0587</td>\n",
       "      <td>-0.0187</td>\n",
       "      <td>-0.0059</td>\n",
       "      <td>0.0000</td>\n",
       "      <td>-0.0108</td>\n",
       "      <td>0.0157</td>\n",
       "      <td>0.0311</td>\n",
       "      <td>0.0000</td>\n",
       "    </tr>\n",
       "    <tr>\n",
       "      <th>1</th>\n",
       "      <td>2011</td>\n",
       "      <td>60000310347.0000</td>\n",
       "      <td>22.2500</td>\n",
       "      <td>-0.2826</td>\n",
       "      <td>-0.0017</td>\n",
       "      <td>-0.0026</td>\n",
       "      <td>3164.3876</td>\n",
       "      <td>-0.0238</td>\n",
       "      <td>0.0080</td>\n",
       "      <td>-0.0452</td>\n",
       "      <td>0.0032</td>\n",
       "      <td>-0.0157</td>\n",
       "      <td>0.0031</td>\n",
       "      <td>0.0705</td>\n",
       "      <td>-0.0005</td>\n",
       "      <td>0.0005</td>\n",
       "      <td>0.0030</td>\n",
       "      <td>-0.0052</td>\n",
       "      <td>0.0095</td>\n",
       "      <td>0.0001</td>\n",
       "      <td>-0.0094</td>\n",
       "      <td>-0.0365</td>\n",
       "      <td>0.0140</td>\n",
       "      <td>0.0006</td>\n",
       "      <td>0.0043</td>\n",
       "      <td>0.0178</td>\n",
       "      <td>0.0234</td>\n",
       "      <td>0.0000</td>\n",
       "    </tr>\n",
       "    <tr>\n",
       "      <th>2</th>\n",
       "      <td>2011</td>\n",
       "      <td>60001302405.0000</td>\n",
       "      <td>-92.2500</td>\n",
       "      <td>3.6447</td>\n",
       "      <td>0.0004</td>\n",
       "      <td>-0.0003</td>\n",
       "      <td>-15597.9657</td>\n",
       "      <td>-0.0300</td>\n",
       "      <td>-0.0034</td>\n",
       "      <td>0.0053</td>\n",
       "      <td>0.0009</td>\n",
       "      <td>0.0037</td>\n",
       "      <td>0.0171</td>\n",
       "      <td>0.0063</td>\n",
       "      <td>0.0130</td>\n",
       "      <td>-0.0130</td>\n",
       "      <td>-0.0178</td>\n",
       "      <td>-0.0274</td>\n",
       "      <td>0.0175</td>\n",
       "      <td>0.0038</td>\n",
       "      <td>0.0027</td>\n",
       "      <td>0.0086</td>\n",
       "      <td>-0.0016</td>\n",
       "      <td>0.0000</td>\n",
       "      <td>0.0695</td>\n",
       "      <td>-0.0081</td>\n",
       "      <td>0.0381</td>\n",
       "      <td>0.0000</td>\n",
       "    </tr>\n",
       "    <tr>\n",
       "      <th>3</th>\n",
       "      <td>2011</td>\n",
       "      <td>60001311010.0000</td>\n",
       "      <td>-88.2500</td>\n",
       "      <td>1.7782</td>\n",
       "      <td>0.0011</td>\n",
       "      <td>-0.0003</td>\n",
       "      <td>-8989.7469</td>\n",
       "      <td>-0.0413</td>\n",
       "      <td>0.0013</td>\n",
       "      <td>-0.0035</td>\n",
       "      <td>0.0010</td>\n",
       "      <td>-0.0126</td>\n",
       "      <td>0.0266</td>\n",
       "      <td>0.0285</td>\n",
       "      <td>0.0102</td>\n",
       "      <td>-0.0102</td>\n",
       "      <td>-0.0043</td>\n",
       "      <td>-0.0070</td>\n",
       "      <td>-0.0213</td>\n",
       "      <td>-0.0355</td>\n",
       "      <td>-0.0092</td>\n",
       "      <td>0.0114</td>\n",
       "      <td>-0.0059</td>\n",
       "      <td>0.0000</td>\n",
       "      <td>0.0014</td>\n",
       "      <td>0.0137</td>\n",
       "      <td>0.0020</td>\n",
       "      <td>0.0008</td>\n",
       "    </tr>\n",
       "    <tr>\n",
       "      <th>4</th>\n",
       "      <td>2011</td>\n",
       "      <td>60001609086.0000</td>\n",
       "      <td>128.0000</td>\n",
       "      <td>-2.5556</td>\n",
       "      <td>0.0001</td>\n",
       "      <td>0.0003</td>\n",
       "      <td>1794.2415</td>\n",
       "      <td>-0.0155</td>\n",
       "      <td>-0.0074</td>\n",
       "      <td>-0.0499</td>\n",
       "      <td>0.0000</td>\n",
       "      <td>0.0033</td>\n",
       "      <td>0.0135</td>\n",
       "      <td>0.0561</td>\n",
       "      <td>-0.0004</td>\n",
       "      <td>0.0004</td>\n",
       "      <td>0.0027</td>\n",
       "      <td>-0.0110</td>\n",
       "      <td>0.0096</td>\n",
       "      <td>-0.0161</td>\n",
       "      <td>-0.0122</td>\n",
       "      <td>-0.0257</td>\n",
       "      <td>-0.0262</td>\n",
       "      <td>0.0000</td>\n",
       "      <td>-0.0046</td>\n",
       "      <td>0.0077</td>\n",
       "      <td>0.0019</td>\n",
       "      <td>0.0000</td>\n",
       "    </tr>\n",
       "    <tr>\n",
       "      <th>...</th>\n",
       "      <td>...</td>\n",
       "      <td>...</td>\n",
       "      <td>...</td>\n",
       "      <td>...</td>\n",
       "      <td>...</td>\n",
       "      <td>...</td>\n",
       "      <td>...</td>\n",
       "      <td>...</td>\n",
       "      <td>...</td>\n",
       "      <td>...</td>\n",
       "      <td>...</td>\n",
       "      <td>...</td>\n",
       "      <td>...</td>\n",
       "      <td>...</td>\n",
       "      <td>...</td>\n",
       "      <td>...</td>\n",
       "      <td>...</td>\n",
       "      <td>...</td>\n",
       "      <td>...</td>\n",
       "      <td>...</td>\n",
       "      <td>...</td>\n",
       "      <td>...</td>\n",
       "      <td>...</td>\n",
       "      <td>...</td>\n",
       "      <td>...</td>\n",
       "      <td>...</td>\n",
       "      <td>...</td>\n",
       "      <td>...</td>\n",
       "    </tr>\n",
       "    <tr>\n",
       "      <th>4456</th>\n",
       "      <td>2017</td>\n",
       "      <td>69113511047.0000</td>\n",
       "      <td>-162.0000</td>\n",
       "      <td>0.9247</td>\n",
       "      <td>-0.0059</td>\n",
       "      <td>-0.0008</td>\n",
       "      <td>17302.0010</td>\n",
       "      <td>-0.0020</td>\n",
       "      <td>-0.0268</td>\n",
       "      <td>0.1479</td>\n",
       "      <td>0.0000</td>\n",
       "      <td>-0.1070</td>\n",
       "      <td>-0.0034</td>\n",
       "      <td>-0.0087</td>\n",
       "      <td>-0.0024</td>\n",
       "      <td>0.0024</td>\n",
       "      <td>0.0293</td>\n",
       "      <td>-0.1378</td>\n",
       "      <td>-0.1205</td>\n",
       "      <td>0.0594</td>\n",
       "      <td>-0.0192</td>\n",
       "      <td>0.1071</td>\n",
       "      <td>-0.0452</td>\n",
       "      <td>0.0000</td>\n",
       "      <td>-0.0878</td>\n",
       "      <td>0.0117</td>\n",
       "      <td>-0.0353</td>\n",
       "      <td>-0.0011</td>\n",
       "    </tr>\n",
       "    <tr>\n",
       "      <th>4457</th>\n",
       "      <td>2017</td>\n",
       "      <td>69113512749.0000</td>\n",
       "      <td>0.0000</td>\n",
       "      <td>0.0000</td>\n",
       "      <td>0.0000</td>\n",
       "      <td>0.0000</td>\n",
       "      <td>0.0000</td>\n",
       "      <td>0.0000</td>\n",
       "      <td>0.0000</td>\n",
       "      <td>0.0000</td>\n",
       "      <td>0.0000</td>\n",
       "      <td>0.0000</td>\n",
       "      <td>0.0000</td>\n",
       "      <td>0.0000</td>\n",
       "      <td>0.0000</td>\n",
       "      <td>0.0000</td>\n",
       "      <td>0.0000</td>\n",
       "      <td>0.0000</td>\n",
       "      <td>0.0000</td>\n",
       "      <td>0.0000</td>\n",
       "      <td>0.0000</td>\n",
       "      <td>0.0000</td>\n",
       "      <td>0.0000</td>\n",
       "      <td>0.0000</td>\n",
       "      <td>0.0000</td>\n",
       "      <td>0.0000</td>\n",
       "      <td>0.0000</td>\n",
       "      <td>0.0000</td>\n",
       "    </tr>\n",
       "    <tr>\n",
       "      <th>4458</th>\n",
       "      <td>2017</td>\n",
       "      <td>69113513992.0000</td>\n",
       "      <td>0.0000</td>\n",
       "      <td>0.0000</td>\n",
       "      <td>0.0000</td>\n",
       "      <td>0.0000</td>\n",
       "      <td>0.0000</td>\n",
       "      <td>0.0000</td>\n",
       "      <td>0.0000</td>\n",
       "      <td>0.0000</td>\n",
       "      <td>0.0000</td>\n",
       "      <td>0.0000</td>\n",
       "      <td>0.0000</td>\n",
       "      <td>0.0000</td>\n",
       "      <td>0.0000</td>\n",
       "      <td>0.0000</td>\n",
       "      <td>0.0000</td>\n",
       "      <td>0.0000</td>\n",
       "      <td>0.0000</td>\n",
       "      <td>0.0000</td>\n",
       "      <td>0.0000</td>\n",
       "      <td>0.0000</td>\n",
       "      <td>0.0000</td>\n",
       "      <td>0.0000</td>\n",
       "      <td>0.0000</td>\n",
       "      <td>0.0000</td>\n",
       "      <td>0.0000</td>\n",
       "      <td>0.0000</td>\n",
       "    </tr>\n",
       "    <tr>\n",
       "      <th>4459</th>\n",
       "      <td>2017</td>\n",
       "      <td>69113603761.0000</td>\n",
       "      <td>-1.3333</td>\n",
       "      <td>-1.0904</td>\n",
       "      <td>0.0002</td>\n",
       "      <td>0.0000</td>\n",
       "      <td>-10080.8001</td>\n",
       "      <td>0.0001</td>\n",
       "      <td>0.0000</td>\n",
       "      <td>0.0333</td>\n",
       "      <td>-0.0018</td>\n",
       "      <td>-0.0139</td>\n",
       "      <td>0.0000</td>\n",
       "      <td>-0.0140</td>\n",
       "      <td>-0.0330</td>\n",
       "      <td>0.0330</td>\n",
       "      <td>0.0216</td>\n",
       "      <td>0.0028</td>\n",
       "      <td>-0.0045</td>\n",
       "      <td>0.0058</td>\n",
       "      <td>0.0060</td>\n",
       "      <td>0.0058</td>\n",
       "      <td>-0.0044</td>\n",
       "      <td>-0.0018</td>\n",
       "      <td>0.0000</td>\n",
       "      <td>-0.0232</td>\n",
       "      <td>0.0205</td>\n",
       "      <td>0.0000</td>\n",
       "    </tr>\n",
       "    <tr>\n",
       "      <th>4460</th>\n",
       "      <td>2017</td>\n",
       "      <td>69113710339.0000</td>\n",
       "      <td>-17.7500</td>\n",
       "      <td>-4.5140</td>\n",
       "      <td>-0.0147</td>\n",
       "      <td>0.0000</td>\n",
       "      <td>-344.8042</td>\n",
       "      <td>-0.0149</td>\n",
       "      <td>-0.0120</td>\n",
       "      <td>0.0123</td>\n",
       "      <td>-0.0001</td>\n",
       "      <td>0.0443</td>\n",
       "      <td>-0.0111</td>\n",
       "      <td>-0.0185</td>\n",
       "      <td>-0.0622</td>\n",
       "      <td>0.0622</td>\n",
       "      <td>-0.1332</td>\n",
       "      <td>-0.0242</td>\n",
       "      <td>0.0034</td>\n",
       "      <td>-0.1085</td>\n",
       "      <td>-0.0464</td>\n",
       "      <td>0.1157</td>\n",
       "      <td>0.0469</td>\n",
       "      <td>0.0000</td>\n",
       "      <td>0.0000</td>\n",
       "      <td>-0.0028</td>\n",
       "      <td>0.0183</td>\n",
       "      <td>0.0000</td>\n",
       "    </tr>\n",
       "  </tbody>\n",
       "</table>\n",
       "<p>4461 rows × 28 columns</p>\n",
       "</div>"
      ],
      "text/plain": [
       "      year          ncessch  enrollment  AP_oneormore_relative  \\\n",
       "0     2011 60000103278.0000     83.0000                -0.2329   \n",
       "1     2011 60000310347.0000     22.2500                -0.2826   \n",
       "2     2011 60001302405.0000    -92.2500                 3.6447   \n",
       "3     2011 60001311010.0000    -88.2500                 1.7782   \n",
       "4     2011 60001609086.0000    128.0000                -2.5556   \n",
       "...    ...              ...         ...                    ...   \n",
       "4456  2017 69113511047.0000   -162.0000                 0.9247   \n",
       "4457  2017 69113512749.0000      0.0000                 0.0000   \n",
       "4458  2017 69113513992.0000      0.0000                 0.0000   \n",
       "4459  2017 69113603761.0000     -1.3333                -1.0904   \n",
       "4460  2017 69113710339.0000    -17.7500                -4.5140   \n",
       "\n",
       "      teachers_per_student  security_gaurds_per_students  avg_teacher_salary  \\\n",
       "0                   0.0002                        0.0000          17499.4056   \n",
       "1                  -0.0017                       -0.0026           3164.3876   \n",
       "2                   0.0004                       -0.0003         -15597.9657   \n",
       "3                   0.0011                       -0.0003          -8989.7469   \n",
       "4                   0.0001                        0.0003           1794.2415   \n",
       "...                    ...                           ...                 ...   \n",
       "4456               -0.0059                       -0.0008          17302.0010   \n",
       "4457                0.0000                        0.0000              0.0000   \n",
       "4458                0.0000                        0.0000              0.0000   \n",
       "4459                0.0002                        0.0000         -10080.8001   \n",
       "4460               -0.0147                        0.0000           -344.8042   \n",
       "\n",
       "      %Asian  %Black  %Hispanic  %Indigenous \\nAmerican   %Multiracial  \\\n",
       "0     0.0039 -0.0045    -0.0388                  -0.0029       -0.0694   \n",
       "1    -0.0238  0.0080    -0.0452                   0.0032       -0.0157   \n",
       "2    -0.0300 -0.0034     0.0053                   0.0009        0.0037   \n",
       "3    -0.0413  0.0013    -0.0035                   0.0010       -0.0126   \n",
       "4    -0.0155 -0.0074    -0.0499                   0.0000        0.0033   \n",
       "...      ...     ...        ...                      ...           ...   \n",
       "4456 -0.0020 -0.0268     0.1479                   0.0000       -0.1070   \n",
       "4457  0.0000  0.0000     0.0000                   0.0000        0.0000   \n",
       "4458  0.0000  0.0000     0.0000                   0.0000        0.0000   \n",
       "4459  0.0001  0.0000     0.0333                  -0.0018       -0.0139   \n",
       "4460 -0.0149 -0.0120     0.0123                  -0.0001        0.0443   \n",
       "\n",
       "      %Pacific \\nIslander  %White  %Female   %Male  enrl_AP  enrl_AP_science  \\\n",
       "0                  0.0004  0.1114  -0.0093  0.0093   0.0855           0.0317   \n",
       "1                  0.0031  0.0705  -0.0005  0.0005   0.0030          -0.0052   \n",
       "2                  0.0171  0.0063   0.0130 -0.0130  -0.0178          -0.0274   \n",
       "3                  0.0266  0.0285   0.0102 -0.0102  -0.0043          -0.0070   \n",
       "4                  0.0135  0.0561  -0.0004  0.0004   0.0027          -0.0110   \n",
       "...                   ...     ...      ...     ...      ...              ...   \n",
       "4456              -0.0034 -0.0087  -0.0024  0.0024   0.0293          -0.1378   \n",
       "4457               0.0000  0.0000   0.0000  0.0000   0.0000           0.0000   \n",
       "4458               0.0000  0.0000   0.0000  0.0000   0.0000           0.0000   \n",
       "4459               0.0000 -0.0140  -0.0330  0.0330   0.0216           0.0028   \n",
       "4460              -0.0111 -0.0185  -0.0622  0.0622  -0.1332          -0.0242   \n",
       "\n",
       "      enrl_AP_math  enrl_AP_other  enrl_gifted_talented  students_SAT_ACT  \\\n",
       "0          -0.0140        -0.0548                0.0587           -0.0187   \n",
       "1           0.0095         0.0001               -0.0094           -0.0365   \n",
       "2           0.0175         0.0038                0.0027            0.0086   \n",
       "3          -0.0213        -0.0355               -0.0092            0.0114   \n",
       "4           0.0096        -0.0161               -0.0122           -0.0257   \n",
       "...            ...            ...                   ...               ...   \n",
       "4456       -0.1205         0.0594               -0.0192            0.1071   \n",
       "4457        0.0000         0.0000                0.0000            0.0000   \n",
       "4458        0.0000         0.0000                0.0000            0.0000   \n",
       "4459       -0.0045         0.0058                0.0060            0.0058   \n",
       "4460        0.0034        -0.1085               -0.0464            0.1157   \n",
       "\n",
       "      students_chronically_absent  students_report_harass_dis  \\\n",
       "0                         -0.0059                      0.0000   \n",
       "1                          0.0140                      0.0006   \n",
       "2                         -0.0016                      0.0000   \n",
       "3                         -0.0059                      0.0000   \n",
       "4                         -0.0262                      0.0000   \n",
       "...                           ...                         ...   \n",
       "4456                      -0.0452                      0.0000   \n",
       "4457                       0.0000                      0.0000   \n",
       "4458                       0.0000                      0.0000   \n",
       "4459                      -0.0044                     -0.0018   \n",
       "4460                       0.0469                      0.0000   \n",
       "\n",
       "      students_susp_in_sch  students_susp_out_sch_single  \\\n",
       "0                  -0.0108                        0.0157   \n",
       "1                   0.0043                        0.0178   \n",
       "2                   0.0695                       -0.0081   \n",
       "3                   0.0014                        0.0137   \n",
       "4                  -0.0046                        0.0077   \n",
       "...                    ...                           ...   \n",
       "4456               -0.0878                        0.0117   \n",
       "4457                0.0000                        0.0000   \n",
       "4458                0.0000                        0.0000   \n",
       "4459                0.0000                       -0.0232   \n",
       "4460                0.0000                       -0.0028   \n",
       "\n",
       "      students_susp_out_sch_multiple  students_arrested  \n",
       "0                             0.0311             0.0000  \n",
       "1                             0.0234             0.0000  \n",
       "2                             0.0381             0.0000  \n",
       "3                             0.0020             0.0008  \n",
       "4                             0.0019             0.0000  \n",
       "...                              ...                ...  \n",
       "4456                         -0.0353            -0.0011  \n",
       "4457                          0.0000             0.0000  \n",
       "4458                          0.0000             0.0000  \n",
       "4459                          0.0205             0.0000  \n",
       "4460                          0.0183             0.0000  \n",
       "\n",
       "[4461 rows x 28 columns]"
      ]
     },
     "execution_count": 3,
     "metadata": {},
     "output_type": "execute_result"
    }
   ],
   "source": [
    "os.chdir('/Users/meera/Documents/AP-Exams/Data')\n",
    "ap = pd.read_csv('ap_model.csv')\n",
    "ap"
   ]
  },
  {
   "cell_type": "code",
   "execution_count": 4,
   "id": "6ae8a197",
   "metadata": {},
   "outputs": [],
   "source": [
    "from sklearn.model_selection import train_test_split"
   ]
  },
  {
   "cell_type": "code",
   "execution_count": 8,
   "id": "5213aab7",
   "metadata": {},
   "outputs": [],
   "source": [
    "X = np.array(ap.drop(['ncessch', 'AP_oneormore_relative'], axis=1)).reshape(4461, 26)\n",
    "y = np.array(ap.AP_oneormore_relative)\n",
    "\n",
    "x_train, x_test, y_train, y_test = train_test_split(X, y)"
   ]
  },
  {
   "cell_type": "code",
   "execution_count": 13,
   "id": "6e34e282",
   "metadata": {},
   "outputs": [
    {
     "data": {
      "text/plain": [
       "LinearRegression()"
      ]
     },
     "execution_count": 13,
     "metadata": {},
     "output_type": "execute_result"
    }
   ],
   "source": [
    "from sklearn.linear_model import LinearRegression\n",
    "regressor = LinearRegression()\n",
    "regressor.fit(x_train, y_train)"
   ]
  },
  {
   "cell_type": "code",
   "execution_count": 14,
   "id": "81a4f4a8",
   "metadata": {},
   "outputs": [],
   "source": [
    "y_pred = regressor.predict(x_test)"
   ]
  },
  {
   "cell_type": "code",
   "execution_count": 15,
   "id": "4b9137bb",
   "metadata": {},
   "outputs": [
    {
     "data": {
      "text/html": [
       "<div>\n",
       "<style scoped>\n",
       "    .dataframe tbody tr th:only-of-type {\n",
       "        vertical-align: middle;\n",
       "    }\n",
       "\n",
       "    .dataframe tbody tr th {\n",
       "        vertical-align: top;\n",
       "    }\n",
       "\n",
       "    .dataframe thead th {\n",
       "        text-align: right;\n",
       "    }\n",
       "</style>\n",
       "<table border=\"1\" class=\"dataframe\">\n",
       "  <thead>\n",
       "    <tr style=\"text-align: right;\">\n",
       "      <th></th>\n",
       "      <th>Actual</th>\n",
       "      <th>Predicted</th>\n",
       "    </tr>\n",
       "  </thead>\n",
       "  <tbody>\n",
       "    <tr>\n",
       "      <th>0</th>\n",
       "      <td>6.3717</td>\n",
       "      <td>2.5949</td>\n",
       "    </tr>\n",
       "    <tr>\n",
       "      <th>1</th>\n",
       "      <td>-5.4804</td>\n",
       "      <td>-2.0539</td>\n",
       "    </tr>\n",
       "    <tr>\n",
       "      <th>2</th>\n",
       "      <td>-0.8194</td>\n",
       "      <td>4.7000</td>\n",
       "    </tr>\n",
       "    <tr>\n",
       "      <th>3</th>\n",
       "      <td>-1.8871</td>\n",
       "      <td>-0.2898</td>\n",
       "    </tr>\n",
       "    <tr>\n",
       "      <th>4</th>\n",
       "      <td>-6.9505</td>\n",
       "      <td>-3.9262</td>\n",
       "    </tr>\n",
       "    <tr>\n",
       "      <th>...</th>\n",
       "      <td>...</td>\n",
       "      <td>...</td>\n",
       "    </tr>\n",
       "    <tr>\n",
       "      <th>1111</th>\n",
       "      <td>5.3949</td>\n",
       "      <td>6.3031</td>\n",
       "    </tr>\n",
       "    <tr>\n",
       "      <th>1112</th>\n",
       "      <td>-0.5458</td>\n",
       "      <td>1.4610</td>\n",
       "    </tr>\n",
       "    <tr>\n",
       "      <th>1113</th>\n",
       "      <td>5.3239</td>\n",
       "      <td>2.7054</td>\n",
       "    </tr>\n",
       "    <tr>\n",
       "      <th>1114</th>\n",
       "      <td>-5.8170</td>\n",
       "      <td>-4.0187</td>\n",
       "    </tr>\n",
       "    <tr>\n",
       "      <th>1115</th>\n",
       "      <td>-4.1209</td>\n",
       "      <td>-1.4176</td>\n",
       "    </tr>\n",
       "  </tbody>\n",
       "</table>\n",
       "<p>1116 rows × 2 columns</p>\n",
       "</div>"
      ],
      "text/plain": [
       "      Actual  Predicted\n",
       "0     6.3717     2.5949\n",
       "1    -5.4804    -2.0539\n",
       "2    -0.8194     4.7000\n",
       "3    -1.8871    -0.2898\n",
       "4    -6.9505    -3.9262\n",
       "...      ...        ...\n",
       "1111  5.3949     6.3031\n",
       "1112 -0.5458     1.4610\n",
       "1113  5.3239     2.7054\n",
       "1114 -5.8170    -4.0187\n",
       "1115 -4.1209    -1.4176\n",
       "\n",
       "[1116 rows x 2 columns]"
      ]
     },
     "execution_count": 15,
     "metadata": {},
     "output_type": "execute_result"
    }
   ],
   "source": [
    "df = pd.DataFrame({'Actual': y_test, 'Predicted': y_pred})\n",
    "df"
   ]
  },
  {
   "cell_type": "code",
   "execution_count": 19,
   "id": "34dd34e8",
   "metadata": {},
   "outputs": [
    {
     "name": "stdout",
     "output_type": "stream",
     "text": [
      "                                 OLS Regression Results                                \n",
      "=======================================================================================\n",
      "Dep. Variable:                      y   R-squared (uncentered):                   0.332\n",
      "Model:                            OLS   Adj. R-squared (uncentered):              0.327\n",
      "Method:                 Least Squares   F-statistic:                              63.49\n",
      "Date:                Mon, 25 Apr 2022   Prob (F-statistic):                   1.92e-267\n",
      "Time:                        14:28:37   Log-Likelihood:                         -9437.7\n",
      "No. Observations:                3345   AIC:                                  1.893e+04\n",
      "Df Residuals:                    3319   BIC:                                  1.909e+04\n",
      "Df Model:                          26                                                  \n",
      "Covariance Type:            nonrobust                                                  \n",
      "==============================================================================\n",
      "                 coef    std err          t      P>|t|      [0.025      0.975]\n",
      "------------------------------------------------------------------------------\n",
      "x1          2.523e-06   3.51e-05      0.072      0.943   -6.62e-05    7.13e-05\n",
      "x2            -0.0007      0.001     -1.207      0.228      -0.002       0.000\n",
      "x3           -12.9280     13.842     -0.934      0.350     -40.068      14.212\n",
      "x4           -84.9703    136.005     -0.625      0.532    -351.633     181.692\n",
      "x5          9.945e-06   5.81e-06      1.713      0.087   -1.44e-06    2.13e-05\n",
      "x6             0.0952     10.214      0.009      0.993     -19.932      20.122\n",
      "x7           -25.4734     11.439     -2.227      0.026     -47.902      -3.044\n",
      "x8           -20.3680      9.613     -2.119      0.034     -39.216      -1.520\n",
      "x9           -35.7582     13.321     -2.684      0.007     -61.876      -9.640\n",
      "x10          -23.1156      9.690     -2.386      0.017     -42.115      -4.117\n",
      "x11          -14.5001     13.688     -1.059      0.290     -41.337      12.337\n",
      "x12          -21.0198      9.280     -2.265      0.024     -39.214      -2.826\n",
      "x13           -4.7747     46.239     -0.103      0.918     -95.434      85.885\n",
      "x14           -3.7745     46.361     -0.081      0.935     -94.674      87.125\n",
      "x15           47.1343      2.335     20.185      0.000      42.556      51.713\n",
      "x16            6.4818      2.949      2.198      0.028       0.700      12.264\n",
      "x17           -8.0381      3.309     -2.429      0.015     -14.526      -1.550\n",
      "x18            3.3276      2.167      1.535      0.125      -0.922       7.577\n",
      "x19            0.6241      1.749      0.357      0.721      -2.806       4.054\n",
      "x20            4.3238      0.734      5.890      0.000       2.885       5.763\n",
      "x21           -2.2941      1.458     -1.574      0.116      -5.152       0.564\n",
      "x22          -84.0269     55.054     -1.526      0.127    -191.969      23.916\n",
      "x23            3.0770      1.895      1.624      0.104      -0.638       6.792\n",
      "x24           -6.7163      4.086     -1.644      0.100     -14.728       1.296\n",
      "x25           12.2990      4.771      2.578      0.010       2.945      21.653\n",
      "x26           -5.7595      6.970     -0.826      0.409     -19.426       7.907\n",
      "==============================================================================\n",
      "Omnibus:                      795.897   Durbin-Watson:                   2.043\n",
      "Prob(Omnibus):                  0.000   Jarque-Bera (JB):             5234.339\n",
      "Skew:                          -0.965   Prob(JB):                         0.00\n",
      "Kurtosis:                       8.817   Cond. No.                     2.44e+07\n",
      "==============================================================================\n",
      "\n",
      "Notes:\n",
      "[1] R² is computed without centering (uncentered) since the model does not contain a constant.\n",
      "[2] Standard Errors assume that the covariance matrix of the errors is correctly specified.\n",
      "[3] The condition number is large, 2.44e+07. This might indicate that there are\n",
      "strong multicollinearity or other numerical problems.\n"
     ]
    }
   ],
   "source": [
    "import statsmodels.api as sm\n",
    "\n",
    "mod = sm.OLS(y_train, x_train)\n",
    "res = mod.fit()\n",
    "residuals = res.resid\n",
    "predicted = res.fittedvalues\n",
    "observed = y\n",
    "print(res.summary())"
   ]
  },
  {
   "cell_type": "code",
   "execution_count": 16,
   "id": "41d36f1f",
   "metadata": {},
   "outputs": [
    {
     "name": "stdout",
     "output_type": "stream",
     "text": [
      "Mean Absolute Error: 2.705364948286245\n",
      "Mean Squared Error: 16.854356933793333\n",
      "Root Mean Squared Error: 4.105405818404964\n"
     ]
    }
   ],
   "source": [
    "from sklearn import metrics\n",
    "print('Mean Absolute Error:', metrics.mean_absolute_error(y_test, y_pred))\n",
    "print('Mean Squared Error:', metrics.mean_squared_error(y_test, y_pred))\n",
    "print('Root Mean Squared Error:', np.sqrt(metrics.mean_squared_error(y_test, y_pred)))"
   ]
  },
  {
   "cell_type": "code",
   "execution_count": 11,
   "id": "4b03ae1a",
   "metadata": {},
   "outputs": [],
   "source": [
    "from sklearn.ensemble import ExtraTreesClassifier"
   ]
  },
  {
   "cell_type": "code",
   "execution_count": 20,
   "id": "c6537fde",
   "metadata": {},
   "outputs": [],
   "source": [
    "import numpy as np\n",
    "import matplotlib.pyplot as plt\n",
    "from sklearn.linear_model import LinearRegression\n",
    "from sklearn.ensemble import RandomForestRegressor"
   ]
  },
  {
   "cell_type": "markdown",
   "id": "4f3673fd",
   "metadata": {},
   "source": [
    "## Trying to do Random Forest !!"
   ]
  },
  {
   "cell_type": "code",
   "execution_count": 68,
   "id": "72f3b031",
   "metadata": {},
   "outputs": [],
   "source": [
    "X = np.array(ap.drop(['ncessch', 'AP_oneormore_relative'], axis=1)).reshape(4461, 26)\n",
    "y = np.array(ap.AP_oneormore_relative)\n",
    "\n",
    "x_train, x_test, y_train, y_test = train_test_split(X, y)"
   ]
  },
  {
   "cell_type": "markdown",
   "id": "a74e7dd0",
   "metadata": {},
   "source": [
    " ### Creating a baseline for a model to see if it imporves from here .."
   ]
  },
  {
   "cell_type": "code",
   "execution_count": 69,
   "id": "5864242a",
   "metadata": {
    "scrolled": true
   },
   "outputs": [
    {
     "data": {
      "text/plain": [
       "array([[ 2.01300000e+03, -1.48250000e+02,  1.61874708e-03, ...,\n",
       "        -1.04218742e-02, -1.47763962e-03,  8.98597617e-03],\n",
       "       [ 2.01100000e+03, -7.50000000e+00,  7.07376387e-04, ...,\n",
       "        -1.96250599e-02, -3.76504864e-02, -4.58052073e-03],\n",
       "       [ 2.01100000e+03,  3.97500000e+01, -4.25309019e-04, ...,\n",
       "         1.21104891e-02,  1.45439315e-02,  7.24854250e-04],\n",
       "       ...,\n",
       "       [ 2.01700000e+03, -2.70000000e+01,  6.59701678e-04, ...,\n",
       "         5.90538003e-03,  1.55169708e-03,  3.98027189e-04],\n",
       "       [ 2.01100000e+03,  4.50000000e+00,  9.19793693e-04, ...,\n",
       "         6.30441816e-03,  2.75888358e-03, -1.54225787e-04],\n",
       "       [ 2.01300000e+03, -7.70000000e+01, -4.35296868e-04, ...,\n",
       "         3.88200662e-03,  3.50044469e-03, -3.11915159e-04]])"
      ]
     },
     "execution_count": 69,
     "metadata": {},
     "output_type": "execute_result"
    }
   ],
   "source": [
    "x_test"
   ]
  },
  {
   "cell_type": "code",
   "execution_count": 70,
   "id": "70dc437a",
   "metadata": {
    "scrolled": false
   },
   "outputs": [],
   "source": [
    "# X = np.array(ap.drop(['ncessch', 'AP_oneormore_relative'], axis=1))\n",
    "# y = np.array(ap.AP_oneormore_relative)\n",
    "\n",
    "# x_train, x_test, y_train, y_test = train_test_split(X, y)\n",
    "\n",
    "\n",
    "# baseline_pred = x_test[:, x_test.index('average')]"
   ]
  },
  {
   "cell_type": "markdown",
   "id": "71697141",
   "metadata": {},
   "source": [
    "Now we fit the model ... meep"
   ]
  },
  {
   "cell_type": "code",
   "execution_count": 71,
   "id": "ab7f07d5",
   "metadata": {},
   "outputs": [
    {
     "data": {
      "text/plain": [
       "array([0.54960846, 2.30152257, 1.22990392, ..., 0.98125466, 1.12781098,\n",
       "       0.20908375])"
      ]
     },
     "execution_count": 71,
     "metadata": {},
     "output_type": "execute_result"
    }
   ],
   "source": [
    "#fit and score the data using RF\n",
    "RF = RandomForestRegressor(n_estimators=100)\n",
    "RF.fit(x_train,y_train)\n",
    "y_pred = RF.predict(x_test)\n",
    "\n",
    "errors = abs(y_pred - y_test)\n",
    "errors"
   ]
  },
  {
   "cell_type": "code",
   "execution_count": 72,
   "id": "97f5bc61",
   "metadata": {},
   "outputs": [
    {
     "data": {
      "text/plain": [
       "array([0.00589286, 0.01968407, 0.02289459, 0.02162243, 0.03674385,\n",
       "       0.03504473, 0.01979835, 0.02247804, 0.01765558, 0.02218384,\n",
       "       0.0229899 , 0.01869172, 0.01126645, 0.01092094, 0.3954502 ,\n",
       "       0.03474945, 0.02557165, 0.05234195, 0.03197811, 0.04941806,\n",
       "       0.02939599, 0.01101765, 0.01696873, 0.02628039, 0.02031783,\n",
       "       0.01864265])"
      ]
     },
     "execution_count": 72,
     "metadata": {},
     "output_type": "execute_result"
    }
   ],
   "source": [
    "RF.feature_importances_"
   ]
  },
  {
   "cell_type": "code",
   "execution_count": 73,
   "id": "f5aac494",
   "metadata": {},
   "outputs": [
    {
     "data": {
      "image/png": "[encoded data removed]",
      "text/plain": [
       "<Figure size 720x1080 with 1 Axes>"
      ]
     },
     "metadata": {
      "needs_background": "light"
     },
     "output_type": "display_data"
    }
   ],
   "source": [
    "data = ap.drop(['ncessch', 'AP_oneormore_relative'], axis = 1)\n",
    "plt.figure(figsize=(10,15))\n",
    "plt.barh(data.columns, RF.feature_importances_)\n",
    "plt.show()"
   ]
  },
  {
   "cell_type": "code",
   "execution_count": 74,
   "id": "176f3b29",
   "metadata": {},
   "outputs": [
    {
     "name": "stdout",
     "output_type": "stream",
     "text": [
      "Mean Absolute Error: 2.500844548387665\n",
      "Mean Squared Error: 14.489717198794988\n",
      "Root Mean Squared Error: 3.8065361155248465\n"
     ]
    }
   ],
   "source": [
    "print('Mean Absolute Error:', metrics.mean_absolute_error(y_test, y_pred))\n",
    "print('Mean Squared Error:', metrics.mean_squared_error(y_test, y_pred))\n",
    "print('Root Mean Squared Error:', np.sqrt(metrics.mean_squared_error(y_test, y_pred)))"
   ]
  },
  {
   "cell_type": "code",
   "execution_count": 75,
   "id": "a4954b4d",
   "metadata": {},
   "outputs": [
    {
     "name": "stderr",
     "output_type": "stream",
     "text": [
      "/Users/meera/opt/anaconda3/lib/python3.8/site-packages/seaborn/distributions.py:2557: FutureWarning: `distplot` is a deprecated function and will be removed in a future version. Please adapt your code to use either `displot` (a figure-level function with similar flexibility) or `kdeplot` (an axes-level function for kernel density plots).\n",
      "  warnings.warn(msg, FutureWarning)\n",
      "/Users/meera/opt/anaconda3/lib/python3.8/site-packages/seaborn/distributions.py:2557: FutureWarning: `distplot` is a deprecated function and will be removed in a future version. Please adapt your code to use either `displot` (a figure-level function with similar flexibility) or `kdeplot` (an axes-level function for kernel density plots).\n",
      "  warnings.warn(msg, FutureWarning)\n"
     ]
    },
    {
     "data": {
      "image/png": "[encoded data removed]",
      "text/plain": [
       "<Figure size 360x504 with 1 Axes>"
      ]
     },
     "metadata": {
      "needs_background": "light"
     },
     "output_type": "display_data"
    }
   ],
   "source": [
    "import seaborn as sns\n",
    "plt.figure(figsize=(5, 7))\n",
    "\n",
    "\n",
    "ax = sns.distplot(y_test, hist=False, color=\"r\", label=\"Actual Value\")\n",
    "sns.distplot(y_pred, hist=False, color=\"b\", label=\"Fitted Values\" , ax=ax)\n",
    "\n",
    "\n",
    "plt.title('Actual vs Fitted Values for Price')\n",
    "\n",
    "\n",
    "plt.show()\n",
    "plt.close()"
   ]
  },
  {
   "cell_type": "code",
   "execution_count": 76,
   "id": "f6d5cb35",
   "metadata": {
    "scrolled": true
   },
   "outputs": [
    {
     "data": {
      "text/plain": [
       "0.3797149851000369"
      ]
     },
     "execution_count": 76,
     "metadata": {},
     "output_type": "execute_result"
    }
   ],
   "source": [
    "from sklearn.metrics import r2_score \n",
    "r2_score(y_test, y_pred)"
   ]
  },
  {
   "cell_type": "markdown",
   "id": "b736156c",
   "metadata": {},
   "source": [
    "R² score tells us how well our model is fitted to the data by comparing it to the average line of the dependent variable."
   ]
  },
  {
   "cell_type": "markdown",
   "id": "a281b5ce",
   "metadata": {},
   "source": [
    "### Redoing the Random Forest but with out the AP enrollement scores ! "
   ]
  },
  {
   "cell_type": "code",
   "execution_count": 58,
   "id": "e451af35",
   "metadata": {},
   "outputs": [],
   "source": [
    "X = np.array(ap.drop(['ncessch', 'AP_oneormore_relative',\n",
    "                      'enrl_AP_other', 'enrl_AP_math',\n",
    "                      'enrl_AP', 'enrl_AP_science'\n",
    "                     ], axis=1)).reshape(4461, 22)\n",
    "y = np.array(ap.AP_oneormore_relative)\n",
    "\n",
    "x_train, x_test, y_train, y_test = train_test_split(X, y)"
   ]
  },
  {
   "cell_type": "code",
   "execution_count": 59,
   "id": "b47fa737",
   "metadata": {},
   "outputs": [
    {
     "data": {
      "text/plain": [
       "array([4.66589775, 0.90572738, 0.25916644, ..., 2.6389319 , 4.84643565,\n",
       "       3.74067651])"
      ]
     },
     "execution_count": 59,
     "metadata": {},
     "output_type": "execute_result"
    }
   ],
   "source": [
    "#fit and score the data using RF\n",
    "RF = RandomForestRegressor(n_estimators=100)\n",
    "RF.fit(x_train,y_train)\n",
    "y_pred = RF.predict(x_test)\n",
    "\n",
    "errors = abs(y_pred - y_test)\n",
    "errors"
   ]
  },
  {
   "cell_type": "code",
   "execution_count": 61,
   "id": "7c6da8a7",
   "metadata": {},
   "outputs": [
    {
     "data": {
      "image/png": "[encoded data removed]",
      "text/plain": [
       "<Figure size 720x1080 with 1 Axes>"
      ]
     },
     "metadata": {
      "needs_background": "light"
     },
     "output_type": "display_data"
    }
   ],
   "source": [
    "data = ap.drop(['ncessch', 'AP_oneormore_relative',\n",
    "                      'enrl_AP_other', 'enrl_AP_math',\n",
    "                      'enrl_AP', 'enrl_AP_science'], axis = 1)\n",
    "plt.figure(figsize=(10,15))\n",
    "plt.barh(data.columns, RF.feature_importances_)\n",
    "plt.show()"
   ]
  },
  {
   "cell_type": "code",
   "execution_count": 62,
   "id": "4546dcd8",
   "metadata": {},
   "outputs": [
    {
     "name": "stdout",
     "output_type": "stream",
     "text": [
      "Mean Absolute Error: 3.2293032023140444\n",
      "Mean Squared Error: 23.27288784238101\n",
      "Root Mean Squared Error: 4.824198155380955\n"
     ]
    }
   ],
   "source": [
    "print('Mean Absolute Error:', metrics.mean_absolute_error(y_test, y_pred))\n",
    "print('Mean Squared Error:', metrics.mean_squared_error(y_test, y_pred))\n",
    "print('Root Mean Squared Error:', np.sqrt(metrics.mean_squared_error(y_test, y_pred)))"
   ]
  },
  {
   "cell_type": "code",
   "execution_count": 63,
   "id": "c07ed56d",
   "metadata": {},
   "outputs": [
    {
     "name": "stderr",
     "output_type": "stream",
     "text": [
      "/Users/meera/opt/anaconda3/lib/python3.8/site-packages/seaborn/distributions.py:2557: FutureWarning: `distplot` is a deprecated function and will be removed in a future version. Please adapt your code to use either `displot` (a figure-level function with similar flexibility) or `kdeplot` (an axes-level function for kernel density plots).\n",
      "  warnings.warn(msg, FutureWarning)\n",
      "/Users/meera/opt/anaconda3/lib/python3.8/site-packages/seaborn/distributions.py:2557: FutureWarning: `distplot` is a deprecated function and will be removed in a future version. Please adapt your code to use either `displot` (a figure-level function with similar flexibility) or `kdeplot` (an axes-level function for kernel density plots).\n",
      "  warnings.warn(msg, FutureWarning)\n"
     ]
    },
    {
     "data": {
      "image/png": "[encoded data removed]",
      "text/plain": [
       "<Figure size 360x504 with 1 Axes>"
      ]
     },
     "metadata": {
      "needs_background": "light"
     },
     "output_type": "display_data"
    }
   ],
   "source": [
    "import seaborn as sns\n",
    "plt.figure(figsize=(5, 7))\n",
    "\n",
    "\n",
    "ax = sns.distplot(y_test, hist=False, color=\"r\", label=\"Actual Value\")\n",
    "sns.distplot(y_pred, hist=False, color=\"b\", label=\"Fitted Values\" , ax=ax)\n",
    "\n",
    "\n",
    "plt.title('Actual vs Fitted Values for Price')\n",
    "\n",
    "\n",
    "plt.show()\n",
    "plt.close()"
   ]
  },
  {
   "cell_type": "code",
   "execution_count": 67,
   "id": "b269da97",
   "metadata": {},
   "outputs": [
    {
     "data": {
      "text/plain": [
       "0.1365455564810334"
      ]
     },
     "execution_count": 67,
     "metadata": {},
     "output_type": "execute_result"
    }
   ],
   "source": [
    "from sklearn.metrics import r2_score \n",
    "r2_score(y_test, y_pred)"
   ]
  },
  {
   "cell_type": "code",
   "execution_count": null,
   "id": "dac39083",
   "metadata": {},
   "outputs": [],
   "source": []
  }
 ],
 "metadata": {
  "kernelspec": {
   "display_name": "Python 3",
   "language": "python",
   "name": "python3"
  },
  "language_info": {
   "codemirror_mode": {
    "name": "ipython",
    "version": 3
   },
   "file_extension": ".py",
   "mimetype": "text/x-python",
   "name": "python",
   "nbconvert_exporter": "python",
   "pygments_lexer": "ipython3",
   "version": "3.8.8"
  }
 },
 "nbformat": 4,
 "nbformat_minor": 5
}
